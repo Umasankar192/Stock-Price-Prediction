{
 "cells": [
  {
   "cell_type": "markdown",
   "id": "a134d9ec",
   "metadata": {},
   "source": [
    "## IMPORTING LIBRARY"
   ]
  },
  {
   "cell_type": "code",
   "execution_count": 1,
   "id": "ba170bc8",
   "metadata": {
    "scrolled": true
   },
   "outputs": [],
   "source": [
    "import numpy as np\n",
    "import pandas as pd\n",
    "import math"
   ]
  },
  {
   "cell_type": "code",
   "execution_count": 2,
   "id": "45c2c127",
   "metadata": {},
   "outputs": [
    {
     "name": "stdout",
     "output_type": "stream",
     "text": [
      "                Open      High       Low\n",
      "Date                                    \n",
      "1999-03-11  0.583984  0.781250  0.583984\n",
      "1999-03-12  0.734375  0.761719  0.671875\n",
      "1999-03-15  0.730469  0.730469  0.658203\n",
      "1999-03-16  0.667969  0.691406  0.656250\n",
      "1999-03-17  0.656250  0.699219  0.652344\n",
      "\n",
      "\n",
      "Date\n",
      "1999-03-11    0.732422\n",
      "1999-03-12    0.728516\n",
      "1999-03-15    0.662109\n",
      "1999-03-16    0.656250\n",
      "1999-03-17    0.660156\n",
      "Name: Close, dtype: float64\n"
     ]
    }
   ],
   "source": [
    "dataset = pd.read_csv('C:/Users/Uma Shankar/Downloads/INFY.csv',index_col='Date')\n",
    "dataset = dataset.dropna()\n",
    "X = dataset[['Open', 'High', 'Low']]\n",
    "y = dataset[ 'Close']\n",
    "print(X.head())\n",
    "print('\\n')\n",
    "print(y.head())"
   ]
  },
  {
   "cell_type": "code",
   "execution_count": 3,
   "id": "d6ddcc65",
   "metadata": {},
   "outputs": [],
   "source": [
    "split = int(len(dataset)*0.8)\n",
    "X_train, X_test, y_train, y_test = X[:split], X[split:], y[:split], y[split:]"
   ]
  },
  {
   "cell_type": "code",
   "execution_count": 4,
   "id": "3b85467c",
   "metadata": {},
   "outputs": [],
   "source": [
    "from sklearn.preprocessing import StandardScaler\n",
    "sc = StandardScaler()\n",
    "X_train = sc.fit_transform(X_train)\n",
    "X_test = sc.transform(X_test)"
   ]
  },
  {
   "cell_type": "code",
   "execution_count": 5,
   "id": "3285c5b4",
   "metadata": {},
   "outputs": [],
   "source": [
    "from keras.models import Sequential\n",
    "from keras.layers import Dense\n",
    "from keras.layers import Dropout"
   ]
  },
  {
   "cell_type": "code",
   "execution_count": 9,
   "id": "0a10cc62",
   "metadata": {},
   "outputs": [
    {
     "name": "stdout",
     "output_type": "stream",
     "text": [
      "Epoch 1/100\n",
      "455/455 [==============================] - 1s 1ms/step - loss: 6.5355\n",
      "Epoch 2/100\n",
      "455/455 [==============================] - 0s 969us/step - loss: 0.0275\n",
      "Epoch 3/100\n",
      "455/455 [==============================] - 0s 918us/step - loss: 0.0087\n",
      "Epoch 4/100\n",
      "455/455 [==============================] - 0s 968us/step - loss: 0.0065A: 0s - loss: 0\n",
      "Epoch 5/100\n",
      "455/455 [==============================] - 1s 1ms/step - loss: 0.0060\n",
      "Epoch 6/100\n",
      "455/455 [==============================] - 0s 902us/step - loss: 0.0055\n",
      "Epoch 7/100\n",
      "455/455 [==============================] - 0s 936us/step - loss: 0.0050\n",
      "Epoch 8/100\n",
      "455/455 [==============================] - 0s 993us/step - loss: 0.0049\n",
      "Epoch 9/100\n",
      "455/455 [==============================] - 1s 1ms/step - loss: 0.0047\n",
      "Epoch 10/100\n",
      "455/455 [==============================] - 0s 1ms/step - loss: 0.0041\n",
      "Epoch 11/100\n",
      "455/455 [==============================] - 0s 1ms/step - loss: 0.0040\n",
      "Epoch 12/100\n",
      "455/455 [==============================] - 0s 940us/step - loss: 0.0040\n",
      "Epoch 13/100\n",
      "455/455 [==============================] - 0s 967us/step - loss: 0.0036\n",
      "Epoch 14/100\n",
      "455/455 [==============================] - 1s 1ms/step - loss: 0.0036\n",
      "Epoch 15/100\n",
      "455/455 [==============================] - 0s 1ms/step - loss: 0.0035\n",
      "Epoch 16/100\n",
      "455/455 [==============================] - 0s 1ms/step - loss: 0.0032\n",
      "Epoch 17/100\n",
      "455/455 [==============================] - 0s 977us/step - loss: 0.0031\n",
      "Epoch 18/100\n",
      "455/455 [==============================] - 0s 1000us/step - loss: 0.0030\n",
      "Epoch 19/100\n",
      "455/455 [==============================] - 0s 923us/step - loss: 0.0031\n",
      "Epoch 20/100\n",
      "455/455 [==============================] - 0s 959us/step - loss: 0.0031\n",
      "Epoch 21/100\n",
      "455/455 [==============================] - 0s 962us/step - loss: 0.0029\n",
      "Epoch 22/100\n",
      "455/455 [==============================] - 0s 945us/step - loss: 0.0028\n",
      "Epoch 23/100\n",
      "455/455 [==============================] - 0s 964us/step - loss: 0.0029\n",
      "Epoch 24/100\n",
      "455/455 [==============================] - 0s 957us/step - loss: 0.0029\n",
      "Epoch 25/100\n",
      "455/455 [==============================] - 0s 972us/step - loss: 0.0029\n",
      "Epoch 26/100\n",
      "455/455 [==============================] - 0s 982us/step - loss: 0.0027\n",
      "Epoch 27/100\n",
      "455/455 [==============================] - 0s 968us/step - loss: 0.0027\n",
      "Epoch 28/100\n",
      "455/455 [==============================] - 0s 960us/step - loss: 0.0028\n",
      "Epoch 29/100\n",
      "455/455 [==============================] - 0s 976us/step - loss: 0.0028\n",
      "Epoch 30/100\n",
      "455/455 [==============================] - 0s 1ms/step - loss: 0.0028\n",
      "Epoch 31/100\n",
      "455/455 [==============================] - 0s 1ms/step - loss: 0.0029\n",
      "Epoch 32/100\n",
      "455/455 [==============================] - 0s 1ms/step - loss: 0.0028\n",
      "Epoch 33/100\n",
      "455/455 [==============================] - 0s 1ms/step - loss: 0.0029\n",
      "Epoch 34/100\n",
      "455/455 [==============================] - 0s 950us/step - loss: 0.0027\n",
      "Epoch 35/100\n",
      "455/455 [==============================] - 0s 986us/step - loss: 0.0028\n",
      "Epoch 36/100\n",
      "455/455 [==============================] - 0s 986us/step - loss: 0.0027\n",
      "Epoch 37/100\n",
      "455/455 [==============================] - 0s 1ms/step - loss: 0.0028\n",
      "Epoch 38/100\n",
      "455/455 [==============================] - 0s 966us/step - loss: 0.0027\n",
      "Epoch 39/100\n",
      "455/455 [==============================] - 0s 965us/step - loss: 0.0030\n",
      "Epoch 40/100\n",
      "455/455 [==============================] - 0s 978us/step - loss: 0.0028\n",
      "Epoch 41/100\n",
      "455/455 [==============================] - 0s 989us/step - loss: 0.0029\n",
      "Epoch 42/100\n",
      "455/455 [==============================] - 0s 949us/step - loss: 0.0028\n",
      "Epoch 43/100\n",
      "455/455 [==============================] - 0s 956us/step - loss: 0.0028\n",
      "Epoch 44/100\n",
      "455/455 [==============================] - 0s 1ms/step - loss: 0.0029\n",
      "Epoch 45/100\n",
      "455/455 [==============================] - 0s 973us/step - loss: 0.0028\n",
      "Epoch 46/100\n",
      "455/455 [==============================] - 1s 1ms/step - loss: 0.0027\n",
      "Epoch 47/100\n",
      "455/455 [==============================] - 0s 949us/step - loss: 0.0028\n",
      "Epoch 48/100\n",
      "455/455 [==============================] - 0s 953us/step - loss: 0.0029\n",
      "Epoch 49/100\n",
      "455/455 [==============================] - 0s 957us/step - loss: 0.0028\n",
      "Epoch 50/100\n",
      "455/455 [==============================] - 1s 1ms/step - loss: 0.0028\n",
      "Epoch 51/100\n",
      "455/455 [==============================] - 0s 1ms/step - loss: 0.0027\n",
      "Epoch 52/100\n",
      "455/455 [==============================] - 0s 947us/step - loss: 0.0029\n",
      "Epoch 53/100\n",
      "455/455 [==============================] - 0s 954us/step - loss: 0.0027\n",
      "Epoch 54/100\n",
      "455/455 [==============================] - 0s 1ms/step - loss: 0.0027\n",
      "Epoch 55/100\n",
      "455/455 [==============================] - 0s 913us/step - loss: 0.0028\n",
      "Epoch 56/100\n",
      "455/455 [==============================] - 1s 1ms/step - loss: 0.0028\n",
      "Epoch 57/100\n",
      "455/455 [==============================] - 0s 906us/step - loss: 0.0028\n",
      "Epoch 58/100\n",
      "455/455 [==============================] - 0s 911us/step - loss: 0.0027\n",
      "Epoch 59/100\n",
      "455/455 [==============================] - 0s 1ms/step - loss: 0.0027\n",
      "Epoch 60/100\n",
      "455/455 [==============================] - 0s 1ms/step - loss: 0.0030\n",
      "Epoch 61/100\n",
      "455/455 [==============================] - 0s 945us/step - loss: 0.0027\n",
      "Epoch 62/100\n",
      "455/455 [==============================] - 0s 943us/step - loss: 0.0030\n",
      "Epoch 63/100\n",
      "455/455 [==============================] - 0s 1ms/step - loss: 0.0027\n",
      "Epoch 64/100\n",
      "455/455 [==============================] - 0s 1ms/step - loss: 0.0028\n",
      "Epoch 65/100\n",
      "455/455 [==============================] - 0s 991us/step - loss: 0.0027\n",
      "Epoch 66/100\n",
      "455/455 [==============================] - 0s 993us/step - loss: 0.0028\n",
      "Epoch 67/100\n",
      "455/455 [==============================] - 0s 926us/step - loss: 0.0028\n",
      "Epoch 68/100\n",
      "455/455 [==============================] - 0s 1ms/step - loss: 0.0029\n",
      "Epoch 69/100\n",
      "455/455 [==============================] - 0s 1ms/step - loss: 0.0028\n",
      "Epoch 70/100\n",
      "455/455 [==============================] - 0s 927us/step - loss: 0.0028\n",
      "Epoch 71/100\n",
      "455/455 [==============================] - 0s 988us/step - loss: 0.0028\n",
      "Epoch 72/100\n",
      "455/455 [==============================] - 0s 991us/step - loss: 0.0027\n",
      "Epoch 73/100\n",
      "455/455 [==============================] - 0s 1ms/step - loss: 0.0029\n",
      "Epoch 74/100\n",
      "455/455 [==============================] - 0s 1ms/step - loss: 0.0028\n",
      "Epoch 75/100\n",
      "455/455 [==============================] - 0s 981us/step - loss: 0.0029\n",
      "Epoch 76/100\n",
      "455/455 [==============================] - 0s 940us/step - loss: 0.0026\n",
      "Epoch 77/100\n",
      "455/455 [==============================] - 0s 943us/step - loss: 0.0030\n",
      "Epoch 78/100\n",
      "455/455 [==============================] - 0s 951us/step - loss: 0.0029\n",
      "Epoch 79/100\n",
      "455/455 [==============================] - 0s 1ms/step - loss: 0.0027\n",
      "Epoch 80/100\n",
      "455/455 [==============================] - 0s 1ms/step - loss: 0.0028\n",
      "Epoch 81/100\n",
      "455/455 [==============================] - 0s 940us/step - loss: 0.0028\n",
      "Epoch 82/100\n",
      "455/455 [==============================] - 1s 1ms/step - loss: 0.0027\n",
      "Epoch 83/100\n",
      "455/455 [==============================] - 1s 1ms/step - loss: 0.0027\n",
      "Epoch 84/100\n",
      "455/455 [==============================] - 0s 941us/step - loss: 0.0028\n",
      "Epoch 85/100\n",
      "455/455 [==============================] - 0s 1ms/step - loss: 0.0028\n",
      "Epoch 86/100\n",
      "455/455 [==============================] - 0s 941us/step - loss: 0.0027\n",
      "Epoch 87/100\n",
      "455/455 [==============================] - 0s 1ms/step - loss: 0.0029\n",
      "Epoch 88/100\n",
      "455/455 [==============================] - 0s 955us/step - loss: 0.0028\n",
      "Epoch 89/100\n",
      "455/455 [==============================] - 0s 956us/step - loss: 0.0027\n",
      "Epoch 90/100\n",
      "455/455 [==============================] - 0s 998us/step - loss: 0.0028\n",
      "Epoch 91/100\n",
      "455/455 [==============================] - 0s 1ms/step - loss: 0.0028\n",
      "Epoch 92/100\n",
      "455/455 [==============================] - 0s 950us/step - loss: 0.0027\n",
      "Epoch 93/100\n",
      "455/455 [==============================] - 0s 1ms/step - loss: 0.0027\n",
      "Epoch 94/100\n",
      "455/455 [==============================] - 0s 1ms/step - loss: 0.0028\n",
      "Epoch 95/100\n",
      "455/455 [==============================] - 1s 1ms/step - loss: 0.0027\n",
      "Epoch 96/100\n",
      "455/455 [==============================] - 0s 1ms/step - loss: 0.0027\n",
      "Epoch 97/100\n",
      "455/455 [==============================] - 0s 987us/step - loss: 0.0027\n",
      "Epoch 98/100\n",
      "455/455 [==============================] - 0s 990us/step - loss: 0.0028\n",
      "Epoch 99/100\n",
      "455/455 [==============================] - 0s 910us/step - loss: 0.0028\n",
      "Epoch 100/100\n",
      "455/455 [==============================] - 0s 915us/step - loss: 0.0027\n"
     ]
    },
    {
     "data": {
      "text/plain": [
       "<keras.callbacks.History at 0x265d14332e0>"
      ]
     },
     "execution_count": 9,
     "metadata": {},
     "output_type": "execute_result"
    }
   ],
   "source": [
    "classifier = Sequential()\n",
    "classifier.add(Dense(units = 128, kernel_initializer = 'uniform', activation = 'relu', input_dim = X.shape[1]))\n",
    "classifier.add(Dense(units = 128, kernel_initializer = 'uniform', activation = 'relu'))\n",
    "classifier.add(Dense(units = 1, kernel_initializer = 'uniform', activation = 'linear'))\n",
    "classifier.compile(optimizer = 'Adamax', loss = 'mean_squared_error')\n",
    "classifier.fit(X_train, y_train, batch_size = 10, epochs = 100)"
   ]
  },
  {
   "cell_type": "code",
   "execution_count": 10,
   "id": "326322e7",
   "metadata": {
    "scrolled": true
   },
   "outputs": [
    {
     "data": {
      "text/plain": [
       "array([[ 7.6325607],\n",
       "       [ 7.6623106],\n",
       "       [ 7.620718 ],\n",
       "       ...,\n",
       "       [22.26126  ],\n",
       "       [22.657373 ],\n",
       "       [22.052137 ]], dtype=float32)"
      ]
     },
     "execution_count": 10,
     "metadata": {},
     "output_type": "execute_result"
    }
   ],
   "source": [
    "y_pred = classifier.predict(X_test)\n",
    "y_pred"
   ]
  },
  {
   "cell_type": "code",
   "execution_count": 11,
   "id": "4b61a5ff",
   "metadata": {
    "scrolled": false
   },
   "outputs": [
    {
     "data": {
      "text/plain": [
       "Date\n",
       "2017-04-05    7.680\n",
       "2017-04-06    7.680\n",
       "2017-04-07    7.635\n",
       "2017-04-10    7.585\n",
       "2017-04-11    7.545\n",
       "Name: Close, dtype: float64"
      ]
     },
     "execution_count": 11,
     "metadata": {},
     "output_type": "execute_result"
    }
   ],
   "source": [
    "y_test.head()"
   ]
  },
  {
   "cell_type": "code",
   "execution_count": 12,
   "id": "df017a27",
   "metadata": {},
   "outputs": [
    {
     "data": {
      "text/html": [
       "<div>\n",
       "<style scoped>\n",
       "    .dataframe tbody tr th:only-of-type {\n",
       "        vertical-align: middle;\n",
       "    }\n",
       "\n",
       "    .dataframe tbody tr th {\n",
       "        vertical-align: top;\n",
       "    }\n",
       "\n",
       "    .dataframe thead th {\n",
       "        text-align: right;\n",
       "    }\n",
       "</style>\n",
       "<table border=\"1\" class=\"dataframe\">\n",
       "  <thead>\n",
       "    <tr style=\"text-align: right;\">\n",
       "      <th></th>\n",
       "      <th>Close</th>\n",
       "      <th>y pred</th>\n",
       "    </tr>\n",
       "    <tr>\n",
       "      <th>Date</th>\n",
       "      <th></th>\n",
       "      <th></th>\n",
       "    </tr>\n",
       "  </thead>\n",
       "  <tbody>\n",
       "    <tr>\n",
       "      <th>2017-04-05</th>\n",
       "      <td>7.680000</td>\n",
       "      <td>7.632561</td>\n",
       "    </tr>\n",
       "    <tr>\n",
       "      <th>2017-04-06</th>\n",
       "      <td>7.680000</td>\n",
       "      <td>7.662311</td>\n",
       "    </tr>\n",
       "    <tr>\n",
       "      <th>2017-04-07</th>\n",
       "      <td>7.635000</td>\n",
       "      <td>7.620718</td>\n",
       "    </tr>\n",
       "    <tr>\n",
       "      <th>2017-04-10</th>\n",
       "      <td>7.585000</td>\n",
       "      <td>7.534714</td>\n",
       "    </tr>\n",
       "    <tr>\n",
       "      <th>2017-04-11</th>\n",
       "      <td>7.545000</td>\n",
       "      <td>7.507113</td>\n",
       "    </tr>\n",
       "    <tr>\n",
       "      <th>...</th>\n",
       "      <td>...</td>\n",
       "      <td>...</td>\n",
       "    </tr>\n",
       "    <tr>\n",
       "      <th>2021-10-04</th>\n",
       "      <td>22.150000</td>\n",
       "      <td>22.073761</td>\n",
       "    </tr>\n",
       "    <tr>\n",
       "      <th>2021-10-05</th>\n",
       "      <td>22.750000</td>\n",
       "      <td>22.593714</td>\n",
       "    </tr>\n",
       "    <tr>\n",
       "      <th>2021-10-06</th>\n",
       "      <td>22.450001</td>\n",
       "      <td>22.261259</td>\n",
       "    </tr>\n",
       "    <tr>\n",
       "      <th>2021-10-07</th>\n",
       "      <td>22.770000</td>\n",
       "      <td>22.657373</td>\n",
       "    </tr>\n",
       "    <tr>\n",
       "      <th>2021-10-08</th>\n",
       "      <td>21.930000</td>\n",
       "      <td>22.052137</td>\n",
       "    </tr>\n",
       "  </tbody>\n",
       "</table>\n",
       "<p>1137 rows × 2 columns</p>\n",
       "</div>"
      ],
      "text/plain": [
       "                Close     y pred\n",
       "Date                            \n",
       "2017-04-05   7.680000   7.632561\n",
       "2017-04-06   7.680000   7.662311\n",
       "2017-04-07   7.635000   7.620718\n",
       "2017-04-10   7.585000   7.534714\n",
       "2017-04-11   7.545000   7.507113\n",
       "...               ...        ...\n",
       "2021-10-04  22.150000  22.073761\n",
       "2021-10-05  22.750000  22.593714\n",
       "2021-10-06  22.450001  22.261259\n",
       "2021-10-07  22.770000  22.657373\n",
       "2021-10-08  21.930000  22.052137\n",
       "\n",
       "[1137 rows x 2 columns]"
      ]
     },
     "execution_count": 12,
     "metadata": {},
     "output_type": "execute_result"
    }
   ],
   "source": [
    "df=pd.DataFrame(y_test)\n",
    "df[\"y pred\"]=y_pred\n",
    "df"
   ]
  },
  {
   "cell_type": "code",
   "execution_count": 13,
   "id": "027f8a36",
   "metadata": {
    "scrolled": true
   },
   "outputs": [
    {
     "data": {
      "text/html": [
       "<div>\n",
       "<style scoped>\n",
       "    .dataframe tbody tr th:only-of-type {\n",
       "        vertical-align: middle;\n",
       "    }\n",
       "\n",
       "    .dataframe tbody tr th {\n",
       "        vertical-align: top;\n",
       "    }\n",
       "\n",
       "    .dataframe thead th {\n",
       "        text-align: right;\n",
       "    }\n",
       "</style>\n",
       "<table border=\"1\" class=\"dataframe\">\n",
       "  <thead>\n",
       "    <tr style=\"text-align: right;\">\n",
       "      <th></th>\n",
       "      <th>Close</th>\n",
       "      <th>y pred</th>\n",
       "    </tr>\n",
       "    <tr>\n",
       "      <th>Date</th>\n",
       "      <th></th>\n",
       "      <th></th>\n",
       "    </tr>\n",
       "  </thead>\n",
       "  <tbody>\n",
       "    <tr>\n",
       "      <th>2017-04-05</th>\n",
       "      <td>7.680</td>\n",
       "      <td>7.632561</td>\n",
       "    </tr>\n",
       "    <tr>\n",
       "      <th>2017-04-06</th>\n",
       "      <td>7.680</td>\n",
       "      <td>7.662311</td>\n",
       "    </tr>\n",
       "    <tr>\n",
       "      <th>2017-04-07</th>\n",
       "      <td>7.635</td>\n",
       "      <td>7.620718</td>\n",
       "    </tr>\n",
       "    <tr>\n",
       "      <th>2017-04-10</th>\n",
       "      <td>7.585</td>\n",
       "      <td>7.534714</td>\n",
       "    </tr>\n",
       "    <tr>\n",
       "      <th>2017-04-11</th>\n",
       "      <td>7.545</td>\n",
       "      <td>7.507113</td>\n",
       "    </tr>\n",
       "  </tbody>\n",
       "</table>\n",
       "</div>"
      ],
      "text/plain": [
       "            Close    y pred\n",
       "Date                       \n",
       "2017-04-05  7.680  7.632561\n",
       "2017-04-06  7.680  7.662311\n",
       "2017-04-07  7.635  7.620718\n",
       "2017-04-10  7.585  7.534714\n",
       "2017-04-11  7.545  7.507113"
      ]
     },
     "execution_count": 13,
     "metadata": {},
     "output_type": "execute_result"
    }
   ],
   "source": [
    "df.head()"
   ]
  },
  {
   "cell_type": "code",
   "execution_count": 14,
   "id": "ce606818",
   "metadata": {},
   "outputs": [
    {
     "data": {
      "text/html": [
       "<div>\n",
       "<style scoped>\n",
       "    .dataframe tbody tr th:only-of-type {\n",
       "        vertical-align: middle;\n",
       "    }\n",
       "\n",
       "    .dataframe tbody tr th {\n",
       "        vertical-align: top;\n",
       "    }\n",
       "\n",
       "    .dataframe thead th {\n",
       "        text-align: right;\n",
       "    }\n",
       "</style>\n",
       "<table border=\"1\" class=\"dataframe\">\n",
       "  <thead>\n",
       "    <tr style=\"text-align: right;\">\n",
       "      <th></th>\n",
       "      <th>Close</th>\n",
       "      <th>y pred</th>\n",
       "    </tr>\n",
       "    <tr>\n",
       "      <th>Date</th>\n",
       "      <th></th>\n",
       "      <th></th>\n",
       "    </tr>\n",
       "  </thead>\n",
       "  <tbody>\n",
       "    <tr>\n",
       "      <th>2021-10-04</th>\n",
       "      <td>22.150000</td>\n",
       "      <td>22.073761</td>\n",
       "    </tr>\n",
       "    <tr>\n",
       "      <th>2021-10-05</th>\n",
       "      <td>22.750000</td>\n",
       "      <td>22.593714</td>\n",
       "    </tr>\n",
       "    <tr>\n",
       "      <th>2021-10-06</th>\n",
       "      <td>22.450001</td>\n",
       "      <td>22.261259</td>\n",
       "    </tr>\n",
       "    <tr>\n",
       "      <th>2021-10-07</th>\n",
       "      <td>22.770000</td>\n",
       "      <td>22.657373</td>\n",
       "    </tr>\n",
       "    <tr>\n",
       "      <th>2021-10-08</th>\n",
       "      <td>21.930000</td>\n",
       "      <td>22.052137</td>\n",
       "    </tr>\n",
       "  </tbody>\n",
       "</table>\n",
       "</div>"
      ],
      "text/plain": [
       "                Close     y pred\n",
       "Date                            \n",
       "2021-10-04  22.150000  22.073761\n",
       "2021-10-05  22.750000  22.593714\n",
       "2021-10-06  22.450001  22.261259\n",
       "2021-10-07  22.770000  22.657373\n",
       "2021-10-08  21.930000  22.052137"
      ]
     },
     "execution_count": 14,
     "metadata": {},
     "output_type": "execute_result"
    }
   ],
   "source": [
    "df.tail()"
   ]
  },
  {
   "cell_type": "code",
   "execution_count": 15,
   "id": "ebd1b53e",
   "metadata": {},
   "outputs": [
    {
     "data": {
      "image/png": "[encoded data removed]",
      "text/plain": [
       "<Figure size 432x288 with 1 Axes>"
      ]
     },
     "metadata": {
      "needs_background": "light"
     },
     "output_type": "display_data"
    },
    {
     "data": {
      "image/png": "[encoded data removed]",
      "text/plain": [
       "<Figure size 432x288 with 1 Axes>"
      ]
     },
     "metadata": {
      "needs_background": "light"
     },
     "output_type": "display_data"
    }
   ],
   "source": [
    "import matplotlib.pyplot as plt\n",
    "plt.plot(df['Close'],color='red', label='Predictions from the trained model')\n",
    "plt.legend(loc='upper left')\n",
    "plt.show()\n",
    "plt.plot(df['y pred'],color='blue', label='Read values for the stock')\n",
    "plt.legend(loc='upper left')\n",
    "plt.show()"
   ]
  },
  {
   "cell_type": "code",
   "execution_count": 16,
   "id": "b21ce16b",
   "metadata": {},
   "outputs": [
    {
     "data": {
      "image/png": "[encoded data removed]",
      "text/plain": [
       "<Figure size 432x288 with 1 Axes>"
      ]
     },
     "metadata": {
      "needs_background": "light"
     },
     "output_type": "display_data"
    }
   ],
   "source": [
    "import matplotlib.pyplot as plt\n",
    "plt.plot(df['Close'], label='Predictions from the trained model')\n",
    "plt.legend(loc='upper left')\n",
    "plt.plot(df['y pred'], label='Read values for the stock')\n",
    "plt.legend(loc='upper left')\n",
    "plt.show()"
   ]
  },
  {
   "cell_type": "code",
   "execution_count": 17,
   "id": "05bf1631",
   "metadata": {},
   "outputs": [
    {
     "name": "stdout",
     "output_type": "stream",
     "text": [
      "Train Score: 0.00 MSE (0.05 RMSE)\n",
      "Test Score: 0.01 MSE (0.07 RMSE)\n"
     ]
    }
   ],
   "source": [
    "trainScore = classifier.evaluate(X_train, y_train, verbose=0)\n",
    "print('Train Score: %.2f MSE (%.2f RMSE)' % (trainScore, math.sqrt(trainScore)))\n",
    "testScore = classifier.evaluate(X_test, y_test, verbose=0)\n",
    "print('Test Score: %.2f MSE (%.2f RMSE)' % (testScore, math.sqrt(testScore)))"
   ]
  },
  {
   "cell_type": "code",
   "execution_count": 18,
   "id": "4162f971",
   "metadata": {},
   "outputs": [
    {
     "data": {
      "image/png": "[encoded data removed]",
      "text/plain": [
       "<Figure size 432x288 with 1 Axes>"
      ]
     },
     "metadata": {
      "needs_background": "light"
     },
     "output_type": "display_data"
    }
   ],
   "source": [
    "import matplotlib.pyplot as plt\n",
    "plt.plot(df['Close'].tail(), label='Predictions from the trained model')\n",
    "plt.legend(loc='upper left')\n",
    "plt.plot(df['y pred'].tail(), label='Read values for the stock')\n",
    "plt.legend(loc='lower left')\n",
    "plt.show()"
   ]
  },
  {
   "cell_type": "code",
   "execution_count": 19,
   "id": "64b31ffd",
   "metadata": {},
   "outputs": [
    {
     "data": {
      "text/html": [
       "<div>\n",
       "<style scoped>\n",
       "    .dataframe tbody tr th:only-of-type {\n",
       "        vertical-align: middle;\n",
       "    }\n",
       "\n",
       "    .dataframe tbody tr th {\n",
       "        vertical-align: top;\n",
       "    }\n",
       "\n",
       "    .dataframe thead th {\n",
       "        text-align: right;\n",
       "    }\n",
       "</style>\n",
       "<table border=\"1\" class=\"dataframe\">\n",
       "  <thead>\n",
       "    <tr style=\"text-align: right;\">\n",
       "      <th></th>\n",
       "      <th>Close</th>\n",
       "      <th>y pred</th>\n",
       "    </tr>\n",
       "    <tr>\n",
       "      <th>Date</th>\n",
       "      <th></th>\n",
       "      <th></th>\n",
       "    </tr>\n",
       "  </thead>\n",
       "  <tbody>\n",
       "    <tr>\n",
       "      <th>2021-10-04</th>\n",
       "      <td>22.150000</td>\n",
       "      <td>22.073761</td>\n",
       "    </tr>\n",
       "    <tr>\n",
       "      <th>2021-10-05</th>\n",
       "      <td>22.750000</td>\n",
       "      <td>22.593714</td>\n",
       "    </tr>\n",
       "    <tr>\n",
       "      <th>2021-10-06</th>\n",
       "      <td>22.450001</td>\n",
       "      <td>22.261259</td>\n",
       "    </tr>\n",
       "    <tr>\n",
       "      <th>2021-10-07</th>\n",
       "      <td>22.770000</td>\n",
       "      <td>22.657373</td>\n",
       "    </tr>\n",
       "    <tr>\n",
       "      <th>2021-10-08</th>\n",
       "      <td>21.930000</td>\n",
       "      <td>22.052137</td>\n",
       "    </tr>\n",
       "  </tbody>\n",
       "</table>\n",
       "</div>"
      ],
      "text/plain": [
       "                Close     y pred\n",
       "Date                            \n",
       "2021-10-04  22.150000  22.073761\n",
       "2021-10-05  22.750000  22.593714\n",
       "2021-10-06  22.450001  22.261259\n",
       "2021-10-07  22.770000  22.657373\n",
       "2021-10-08  21.930000  22.052137"
      ]
     },
     "execution_count": 19,
     "metadata": {},
     "output_type": "execute_result"
    }
   ],
   "source": [
    "df.tail()"
   ]
  },
  {
   "cell_type": "code",
   "execution_count": 20,
   "id": "3f2258be",
   "metadata": {},
   "outputs": [
    {
     "data": {
      "text/html": [
       "<div>\n",
       "<style scoped>\n",
       "    .dataframe tbody tr th:only-of-type {\n",
       "        vertical-align: middle;\n",
       "    }\n",
       "\n",
       "    .dataframe tbody tr th {\n",
       "        vertical-align: top;\n",
       "    }\n",
       "\n",
       "    .dataframe thead th {\n",
       "        text-align: right;\n",
       "    }\n",
       "</style>\n",
       "<table border=\"1\" class=\"dataframe\">\n",
       "  <thead>\n",
       "    <tr style=\"text-align: right;\">\n",
       "      <th></th>\n",
       "      <th>Open</th>\n",
       "      <th>High</th>\n",
       "      <th>Low</th>\n",
       "      <th>Close</th>\n",
       "      <th>Adj Close</th>\n",
       "      <th>Volume</th>\n",
       "    </tr>\n",
       "    <tr>\n",
       "      <th>Date</th>\n",
       "      <th></th>\n",
       "      <th></th>\n",
       "      <th></th>\n",
       "      <th></th>\n",
       "      <th></th>\n",
       "      <th></th>\n",
       "    </tr>\n",
       "  </thead>\n",
       "  <tbody>\n",
       "    <tr>\n",
       "      <th>1999-03-11</th>\n",
       "      <td>0.583984</td>\n",
       "      <td>0.781250</td>\n",
       "      <td>0.583984</td>\n",
       "      <td>0.732422</td>\n",
       "      <td>0.512236</td>\n",
       "      <td>172512000</td>\n",
       "    </tr>\n",
       "    <tr>\n",
       "      <th>1999-03-12</th>\n",
       "      <td>0.734375</td>\n",
       "      <td>0.761719</td>\n",
       "      <td>0.671875</td>\n",
       "      <td>0.728516</td>\n",
       "      <td>0.509504</td>\n",
       "      <td>39897600</td>\n",
       "    </tr>\n",
       "    <tr>\n",
       "      <th>1999-03-15</th>\n",
       "      <td>0.730469</td>\n",
       "      <td>0.730469</td>\n",
       "      <td>0.658203</td>\n",
       "      <td>0.662109</td>\n",
       "      <td>0.463061</td>\n",
       "      <td>12672000</td>\n",
       "    </tr>\n",
       "    <tr>\n",
       "      <th>1999-03-16</th>\n",
       "      <td>0.667969</td>\n",
       "      <td>0.691406</td>\n",
       "      <td>0.656250</td>\n",
       "      <td>0.656250</td>\n",
       "      <td>0.458963</td>\n",
       "      <td>9984000</td>\n",
       "    </tr>\n",
       "    <tr>\n",
       "      <th>1999-03-17</th>\n",
       "      <td>0.656250</td>\n",
       "      <td>0.699219</td>\n",
       "      <td>0.652344</td>\n",
       "      <td>0.660156</td>\n",
       "      <td>0.461695</td>\n",
       "      <td>15449600</td>\n",
       "    </tr>\n",
       "    <tr>\n",
       "      <th>...</th>\n",
       "      <td>...</td>\n",
       "      <td>...</td>\n",
       "      <td>...</td>\n",
       "      <td>...</td>\n",
       "      <td>...</td>\n",
       "      <td>...</td>\n",
       "    </tr>\n",
       "    <tr>\n",
       "      <th>2021-10-04</th>\n",
       "      <td>22.290001</td>\n",
       "      <td>22.350000</td>\n",
       "      <td>22.030001</td>\n",
       "      <td>22.150000</td>\n",
       "      <td>22.150000</td>\n",
       "      <td>8654400</td>\n",
       "    </tr>\n",
       "    <tr>\n",
       "      <th>2021-10-05</th>\n",
       "      <td>22.290001</td>\n",
       "      <td>22.780001</td>\n",
       "      <td>22.290001</td>\n",
       "      <td>22.750000</td>\n",
       "      <td>22.750000</td>\n",
       "      <td>9498900</td>\n",
       "    </tr>\n",
       "    <tr>\n",
       "      <th>2021-10-06</th>\n",
       "      <td>22.320000</td>\n",
       "      <td>22.500000</td>\n",
       "      <td>22.150000</td>\n",
       "      <td>22.450001</td>\n",
       "      <td>22.450001</td>\n",
       "      <td>7134600</td>\n",
       "    </tr>\n",
       "    <tr>\n",
       "      <th>2021-10-07</th>\n",
       "      <td>22.650000</td>\n",
       "      <td>22.840000</td>\n",
       "      <td>22.559999</td>\n",
       "      <td>22.770000</td>\n",
       "      <td>22.770000</td>\n",
       "      <td>9589800</td>\n",
       "    </tr>\n",
       "    <tr>\n",
       "      <th>2021-10-08</th>\n",
       "      <td>22.910000</td>\n",
       "      <td>23.000000</td>\n",
       "      <td>21.730000</td>\n",
       "      <td>21.930000</td>\n",
       "      <td>21.930000</td>\n",
       "      <td>15739900</td>\n",
       "    </tr>\n",
       "  </tbody>\n",
       "</table>\n",
       "<p>5684 rows × 6 columns</p>\n",
       "</div>"
      ],
      "text/plain": [
       "                 Open       High        Low      Close  Adj Close     Volume\n",
       "Date                                                                        \n",
       "1999-03-11   0.583984   0.781250   0.583984   0.732422   0.512236  172512000\n",
       "1999-03-12   0.734375   0.761719   0.671875   0.728516   0.509504   39897600\n",
       "1999-03-15   0.730469   0.730469   0.658203   0.662109   0.463061   12672000\n",
       "1999-03-16   0.667969   0.691406   0.656250   0.656250   0.458963    9984000\n",
       "1999-03-17   0.656250   0.699219   0.652344   0.660156   0.461695   15449600\n",
       "...               ...        ...        ...        ...        ...        ...\n",
       "2021-10-04  22.290001  22.350000  22.030001  22.150000  22.150000    8654400\n",
       "2021-10-05  22.290001  22.780001  22.290001  22.750000  22.750000    9498900\n",
       "2021-10-06  22.320000  22.500000  22.150000  22.450001  22.450001    7134600\n",
       "2021-10-07  22.650000  22.840000  22.559999  22.770000  22.770000    9589800\n",
       "2021-10-08  22.910000  23.000000  21.730000  21.930000  21.930000   15739900\n",
       "\n",
       "[5684 rows x 6 columns]"
      ]
     },
     "execution_count": 20,
     "metadata": {},
     "output_type": "execute_result"
    }
   ],
   "source": [
    "dataset"
   ]
  },
  {
   "cell_type": "code",
   "execution_count": null,
   "id": "4912d330",
   "metadata": {},
   "outputs": [],
   "source": []
  }
 ],
 "metadata": {
  "kernelspec": {
   "display_name": "Python 3",
   "language": "python",
   "name": "python3"
  },
  "language_info": {
   "codemirror_mode": {
    "name": "ipython",
    "version": 3
   },
   "file_extension": ".py",
   "mimetype": "text/x-python",
   "name": "python",
   "nbconvert_exporter": "python",
   "pygments_lexer": "ipython3",
   "version": "3.8.8"
  }
 },
 "nbformat": 4,
 "nbformat_minor": 5
}
