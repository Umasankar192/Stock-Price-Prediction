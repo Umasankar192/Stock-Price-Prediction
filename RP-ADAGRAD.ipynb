{
 "cells": [
  {
   "cell_type": "markdown",
   "id": "27976735",
   "metadata": {},
   "source": [
    "## IMPORTING LIBRARY"
   ]
  },
  {
   "cell_type": "code",
   "execution_count": 1,
   "id": "ba170bc8",
   "metadata": {
    "scrolled": true
   },
   "outputs": [],
   "source": [
    "import numpy as np\n",
    "import pandas as pd\n",
    "import math"
   ]
  },
  {
   "cell_type": "markdown",
   "id": "fd95e29e",
   "metadata": {},
   "source": [
    "## READING DATASET "
   ]
  },
  {
   "cell_type": "code",
   "execution_count": 2,
   "id": "45c2c127",
   "metadata": {},
   "outputs": [
    {
     "name": "stdout",
     "output_type": "stream",
     "text": [
      "                Open      High       Low\n",
      "Date                                    \n",
      "1999-03-11  0.583984  0.781250  0.583984\n",
      "1999-03-12  0.734375  0.761719  0.671875\n",
      "1999-03-15  0.730469  0.730469  0.658203\n",
      "1999-03-16  0.667969  0.691406  0.656250\n",
      "1999-03-17  0.656250  0.699219  0.652344\n",
      "\n",
      "\n",
      "Date\n",
      "1999-03-11    0.732422\n",
      "1999-03-12    0.728516\n",
      "1999-03-15    0.662109\n",
      "1999-03-16    0.656250\n",
      "1999-03-17    0.660156\n",
      "Name: Close, dtype: float64\n"
     ]
    }
   ],
   "source": [
    "dataset = pd.read_csv('C:/Users/Uma Shankar/Downloads/INFY.csv',index_col='Date')\n",
    "dataset = dataset.dropna()\n",
    "X = dataset[['Open', 'High', 'Low']]\n",
    "y = dataset[ 'Close']\n",
    "print(X.head())\n",
    "print('\\n')\n",
    "print(y.head())"
   ]
  },
  {
   "cell_type": "markdown",
   "id": "f6da5cab",
   "metadata": {},
   "source": [
    "## SPLITTING 80 - 20 RATIO FOR TRAINING AND TESTING "
   ]
  },
  {
   "cell_type": "code",
   "execution_count": 3,
   "id": "d6ddcc65",
   "metadata": {},
   "outputs": [],
   "source": [
    "split = int(len(dataset)*0.8)\n",
    "X_train, X_test, y_train, y_test = X[:split], X[split:], y[:split], y[split:]"
   ]
  },
  {
   "cell_type": "markdown",
   "id": "6c27d5fb",
   "metadata": {},
   "source": [
    "## STANDARDISING DATASET"
   ]
  },
  {
   "cell_type": "code",
   "execution_count": 4,
   "id": "3b85467c",
   "metadata": {},
   "outputs": [],
   "source": [
    "from sklearn.preprocessing import StandardScaler\n",
    "sc = StandardScaler()\n",
    "X_train = sc.fit_transform(X_train)\n",
    "X_test = sc.transform(X_test)"
   ]
  },
  {
   "cell_type": "markdown",
   "id": "ff24157d",
   "metadata": {},
   "source": [
    "## APPLYING NEURAL NETWORK MODLE WITH adagrad OPTIMIZOR"
   ]
  },
  {
   "cell_type": "code",
   "execution_count": 5,
   "id": "3285c5b4",
   "metadata": {},
   "outputs": [],
   "source": [
    "from keras.models import Sequential\n",
    "from keras.layers import Dense\n",
    "from keras.layers import Dropout"
   ]
  },
  {
   "cell_type": "code",
   "execution_count": 6,
   "id": "0a10cc62",
   "metadata": {},
   "outputs": [
    {
     "name": "stdout",
     "output_type": "stream",
     "text": [
      "Epoch 1/100\n",
      "455/455 [==============================] - 2s 1ms/step - loss: 26.9228: 0s - loss:\n",
      "Epoch 2/100\n",
      "455/455 [==============================] - 0s 938us/step - loss: 7.9058\n",
      "Epoch 3/100\n",
      "455/455 [==============================] - 0s 945us/step - loss: 2.6970\n",
      "Epoch 4/100\n",
      "455/455 [==============================] - 0s 1ms/step - loss: 1.9063\n",
      "Epoch 5/100\n",
      "455/455 [==============================] - 0s 883us/step - loss: 1.4052\n",
      "Epoch 6/100\n",
      "455/455 [==============================] - 0s 882us/step - loss: 1.0385\n",
      "Epoch 7/100\n",
      "455/455 [==============================] - 0s 878us/step - loss: 0.7632\n",
      "Epoch 8/100\n",
      "455/455 [==============================] - 0s 872us/step - loss: 0.5556\n",
      "Epoch 9/100\n",
      "455/455 [==============================] - 0s 919us/step - loss: 0.3994\n",
      "Epoch 10/100\n",
      "455/455 [==============================] - 0s 889us/step - loss: 0.2844\n",
      "Epoch 11/100\n",
      "455/455 [==============================] - 0s 888us/step - loss: 0.2022\n",
      "Epoch 12/100\n",
      "455/455 [==============================] - 0s 883us/step - loss: 0.1450\n",
      "Epoch 13/100\n",
      "455/455 [==============================] - 0s 892us/step - loss: 0.1065\n",
      "Epoch 14/100\n",
      "455/455 [==============================] - 0s 893us/step - loss: 0.0810\n",
      "Epoch 15/100\n",
      "455/455 [==============================] - 0s 886us/step - loss: 0.0641\n",
      "Epoch 16/100\n",
      "455/455 [==============================] - 0s 896us/step - loss: 0.0528\n",
      "Epoch 17/100\n",
      "455/455 [==============================] - 0s 889us/step - loss: 0.0451\n",
      "Epoch 18/100\n",
      "455/455 [==============================] - 0s 901us/step - loss: 0.0396\n",
      "Epoch 19/100\n",
      "455/455 [==============================] - 0s 883us/step - loss: 0.0354\n",
      "Epoch 20/100\n",
      "455/455 [==============================] - 0s 905us/step - loss: 0.0322\n",
      "Epoch 21/100\n",
      "455/455 [==============================] - 0s 971us/step - loss: 0.0296\n",
      "Epoch 22/100\n",
      "455/455 [==============================] - 0s 997us/step - loss: 0.0274\n",
      "Epoch 23/100\n",
      "455/455 [==============================] - 0s 873us/step - loss: 0.0255\n",
      "Epoch 24/100\n",
      "455/455 [==============================] - 0s 879us/step - loss: 0.0239\n",
      "Epoch 25/100\n",
      "455/455 [==============================] - 0s 874us/step - loss: 0.0224\n",
      "Epoch 26/100\n",
      "455/455 [==============================] - 0s 872us/step - loss: 0.0211\n",
      "Epoch 27/100\n",
      "455/455 [==============================] - 0s 870us/step - loss: 0.0199\n",
      "Epoch 28/100\n",
      "455/455 [==============================] - 0s 877us/step - loss: 0.0189\n",
      "Epoch 29/100\n",
      "455/455 [==============================] - 0s 942us/step - loss: 0.0179\n",
      "Epoch 30/100\n",
      "455/455 [==============================] - 0s 962us/step - loss: 0.0170\n",
      "Epoch 31/100\n",
      "455/455 [==============================] - 0s 1ms/step - loss: 0.0162\n",
      "Epoch 32/100\n",
      "455/455 [==============================] - 0s 990us/step - loss: 0.0155\n",
      "Epoch 33/100\n",
      "455/455 [==============================] - 0s 921us/step - loss: 0.0149\n",
      "Epoch 34/100\n",
      "455/455 [==============================] - 0s 1ms/step - loss: 0.0142\n",
      "Epoch 35/100\n",
      "455/455 [==============================] - 0s 941us/step - loss: 0.0137\n",
      "Epoch 36/100\n",
      "455/455 [==============================] - 0s 974us/step - loss: 0.0132\n",
      "Epoch 37/100\n",
      "455/455 [==============================] - 1s 1ms/step - loss: 0.0127\n",
      "Epoch 38/100\n",
      "455/455 [==============================] - 0s 1ms/step - loss: 0.0122\n",
      "Epoch 39/100\n",
      "455/455 [==============================] - 0s 986us/step - loss: 0.0118\n",
      "Epoch 40/100\n",
      "455/455 [==============================] - 0s 968us/step - loss: 0.0114\n",
      "Epoch 41/100\n",
      "455/455 [==============================] - 0s 881us/step - loss: 0.0110\n",
      "Epoch 42/100\n",
      "455/455 [==============================] - 0s 881us/step - loss: 0.0107\n",
      "Epoch 43/100\n",
      "455/455 [==============================] - 0s 867us/step - loss: 0.0104\n",
      "Epoch 44/100\n",
      "455/455 [==============================] - 0s 884us/step - loss: 0.0101\n",
      "Epoch 45/100\n",
      "455/455 [==============================] - 0s 876us/step - loss: 0.0098\n",
      "Epoch 46/100\n",
      "455/455 [==============================] - 0s 883us/step - loss: 0.0096\n",
      "Epoch 47/100\n",
      "455/455 [==============================] - 0s 1ms/step - loss: 0.0093\n",
      "Epoch 48/100\n",
      "455/455 [==============================] - 0s 1ms/step - loss: 0.0091\n",
      "Epoch 49/100\n",
      "455/455 [==============================] - 0s 1ms/step - loss: 0.0089\n",
      "Epoch 50/100\n",
      "455/455 [==============================] - 0s 997us/step - loss: 0.0087\n",
      "Epoch 51/100\n",
      "455/455 [==============================] - 0s 1ms/step - loss: 0.0085\n",
      "Epoch 52/100\n",
      "455/455 [==============================] - 0s 1ms/step - loss: 0.0083A: 0s - loss: 0.008\n",
      "Epoch 53/100\n",
      "455/455 [==============================] - 1s 2ms/step - loss: 0.0081A: 0s - loss: 0.0\n",
      "Epoch 54/100\n",
      "455/455 [==============================] - 1s 1ms/step - loss: 0.0080\n",
      "Epoch 55/100\n",
      "455/455 [==============================] - 0s 774us/step - loss: 0.0078\n",
      "Epoch 56/100\n",
      "455/455 [==============================] - 0s 778us/step - loss: 0.0077\n",
      "Epoch 57/100\n",
      "455/455 [==============================] - 0s 771us/step - loss: 0.0076\n",
      "Epoch 58/100\n",
      "455/455 [==============================] - 0s 773us/step - loss: 0.0074\n",
      "Epoch 59/100\n",
      "455/455 [==============================] - 0s 757us/step - loss: 0.0073\n",
      "Epoch 60/100\n",
      "455/455 [==============================] - 0s 777us/step - loss: 0.0072\n",
      "Epoch 61/100\n",
      "455/455 [==============================] - 0s 767us/step - loss: 0.0071\n",
      "Epoch 62/100\n",
      "455/455 [==============================] - 0s 779us/step - loss: 0.0070\n",
      "Epoch 63/100\n",
      "455/455 [==============================] - 0s 776us/step - loss: 0.0069\n",
      "Epoch 64/100\n",
      "455/455 [==============================] - 0s 762us/step - loss: 0.0068\n",
      "Epoch 65/100\n",
      "455/455 [==============================] - 0s 928us/step - loss: 0.0067\n",
      "Epoch 66/100\n",
      "455/455 [==============================] - 0s 795us/step - loss: 0.0067\n",
      "Epoch 67/100\n",
      "455/455 [==============================] - 0s 890us/step - loss: 0.0066\n",
      "Epoch 68/100\n",
      "455/455 [==============================] - 0s 866us/step - loss: 0.0065\n",
      "Epoch 69/100\n",
      "455/455 [==============================] - 0s 778us/step - loss: 0.0064\n",
      "Epoch 70/100\n",
      "455/455 [==============================] - 0s 775us/step - loss: 0.0064\n",
      "Epoch 71/100\n",
      "455/455 [==============================] - 0s 782us/step - loss: 0.0063\n",
      "Epoch 72/100\n",
      "455/455 [==============================] - 0s 912us/step - loss: 0.0063\n",
      "Epoch 73/100\n",
      "455/455 [==============================] - 0s 748us/step - loss: 0.0062\n",
      "Epoch 74/100\n",
      "455/455 [==============================] - 0s 786us/step - loss: 0.0061\n",
      "Epoch 75/100\n",
      "455/455 [==============================] - 0s 769us/step - loss: 0.0061\n",
      "Epoch 76/100\n",
      "455/455 [==============================] - 0s 783us/step - loss: 0.0060\n",
      "Epoch 77/100\n",
      "455/455 [==============================] - 0s 758us/step - loss: 0.0060\n",
      "Epoch 78/100\n",
      "455/455 [==============================] - 0s 801us/step - loss: 0.0060\n",
      "Epoch 79/100\n",
      "455/455 [==============================] - 0s 805us/step - loss: 0.0059\n",
      "Epoch 80/100\n",
      "455/455 [==============================] - 0s 775us/step - loss: 0.0059\n",
      "Epoch 81/100\n",
      "455/455 [==============================] - 0s 869us/step - loss: 0.0058\n",
      "Epoch 82/100\n",
      "455/455 [==============================] - 0s 754us/step - loss: 0.0058\n",
      "Epoch 83/100\n",
      "455/455 [==============================] - 0s 771us/step - loss: 0.0058\n",
      "Epoch 84/100\n",
      "455/455 [==============================] - 0s 827us/step - loss: 0.0057\n",
      "Epoch 85/100\n",
      "455/455 [==============================] - 0s 795us/step - loss: 0.0057\n",
      "Epoch 86/100\n",
      "455/455 [==============================] - 0s 903us/step - loss: 0.0057\n",
      "Epoch 87/100\n",
      "455/455 [==============================] - 0s 884us/step - loss: 0.0056\n",
      "Epoch 88/100\n",
      "455/455 [==============================] - 0s 1ms/step - loss: 0.0056\n",
      "Epoch 89/100\n",
      "455/455 [==============================] - 0s 967us/step - loss: 0.0056\n",
      "Epoch 90/100\n",
      "455/455 [==============================] - 0s 940us/step - loss: 0.0056\n",
      "Epoch 91/100\n",
      "455/455 [==============================] - 0s 1ms/step - loss: 0.0055\n",
      "Epoch 92/100\n",
      "455/455 [==============================] - 0s 986us/step - loss: 0.0055\n",
      "Epoch 93/100\n",
      "455/455 [==============================] - 0s 972us/step - loss: 0.0055\n",
      "Epoch 94/100\n",
      "455/455 [==============================] - 0s 1ms/step - loss: 0.0055\n",
      "Epoch 95/100\n",
      "455/455 [==============================] - 0s 933us/step - loss: 0.0054\n",
      "Epoch 96/100\n",
      "455/455 [==============================] - 1s 1ms/step - loss: 0.0054\n",
      "Epoch 97/100\n",
      "455/455 [==============================] - 0s 998us/step - loss: 0.0054\n",
      "Epoch 98/100\n",
      "455/455 [==============================] - 0s 960us/step - loss: 0.0054\n",
      "Epoch 99/100\n",
      "455/455 [==============================] - 0s 998us/step - loss: 0.0054\n",
      "Epoch 100/100\n",
      "455/455 [==============================] - 0s 1ms/step - loss: 0.0054\n"
     ]
    },
    {
     "data": {
      "text/plain": [
       "<keras.callbacks.History at 0x18070368670>"
      ]
     },
     "execution_count": 6,
     "metadata": {},
     "output_type": "execute_result"
    }
   ],
   "source": [
    "classifier = Sequential()\n",
    "classifier.add(Dense(units = 128, kernel_initializer = 'uniform', activation = 'relu', input_dim = X.shape[1]))\n",
    "classifier.add(Dense(units = 128, kernel_initializer = 'uniform', activation = 'relu'))\n",
    "classifier.add(Dense(units = 1, kernel_initializer = 'uniform', activation = 'linear'))\n",
    "classifier.compile(optimizer = 'adagrad', loss = 'mean_squared_error')\n",
    "classifier.fit(X_train, y_train, batch_size = 10, epochs = 100)"
   ]
  },
  {
   "cell_type": "markdown",
   "id": "01e41239",
   "metadata": {},
   "source": [
    "## TESTNG THE RESUST "
   ]
  },
  {
   "cell_type": "code",
   "execution_count": 7,
   "id": "326322e7",
   "metadata": {
    "scrolled": true
   },
   "outputs": [
    {
     "data": {
      "text/plain": [
       "array([[ 7.65879  ],\n",
       "       [ 7.6752677],\n",
       "       [ 7.6286416],\n",
       "       ...,\n",
       "       [23.908495 ],\n",
       "       [24.336561 ],\n",
       "       [24.096413 ]], dtype=float32)"
      ]
     },
     "execution_count": 7,
     "metadata": {},
     "output_type": "execute_result"
    }
   ],
   "source": [
    "y_pred = classifier.predict(X_test)\n",
    "y_pred"
   ]
  },
  {
   "cell_type": "code",
   "execution_count": 8,
   "id": "4b61a5ff",
   "metadata": {
    "scrolled": false
   },
   "outputs": [
    {
     "data": {
      "text/plain": [
       "Date\n",
       "2017-04-05    7.680\n",
       "2017-04-06    7.680\n",
       "2017-04-07    7.635\n",
       "2017-04-10    7.585\n",
       "2017-04-11    7.545\n",
       "Name: Close, dtype: float64"
      ]
     },
     "execution_count": 8,
     "metadata": {},
     "output_type": "execute_result"
    }
   ],
   "source": [
    "y_test.head()"
   ]
  },
  {
   "cell_type": "code",
   "execution_count": 9,
   "id": "df017a27",
   "metadata": {},
   "outputs": [
    {
     "data": {
      "text/html": [
       "<div>\n",
       "<style scoped>\n",
       "    .dataframe tbody tr th:only-of-type {\n",
       "        vertical-align: middle;\n",
       "    }\n",
       "\n",
       "    .dataframe tbody tr th {\n",
       "        vertical-align: top;\n",
       "    }\n",
       "\n",
       "    .dataframe thead th {\n",
       "        text-align: right;\n",
       "    }\n",
       "</style>\n",
       "<table border=\"1\" class=\"dataframe\">\n",
       "  <thead>\n",
       "    <tr style=\"text-align: right;\">\n",
       "      <th></th>\n",
       "      <th>Close</th>\n",
       "      <th>y pred</th>\n",
       "    </tr>\n",
       "    <tr>\n",
       "      <th>Date</th>\n",
       "      <th></th>\n",
       "      <th></th>\n",
       "    </tr>\n",
       "  </thead>\n",
       "  <tbody>\n",
       "    <tr>\n",
       "      <th>2017-04-05</th>\n",
       "      <td>7.680000</td>\n",
       "      <td>7.658790</td>\n",
       "    </tr>\n",
       "    <tr>\n",
       "      <th>2017-04-06</th>\n",
       "      <td>7.680000</td>\n",
       "      <td>7.675268</td>\n",
       "    </tr>\n",
       "    <tr>\n",
       "      <th>2017-04-07</th>\n",
       "      <td>7.635000</td>\n",
       "      <td>7.628642</td>\n",
       "    </tr>\n",
       "    <tr>\n",
       "      <th>2017-04-10</th>\n",
       "      <td>7.585000</td>\n",
       "      <td>7.513174</td>\n",
       "    </tr>\n",
       "    <tr>\n",
       "      <th>2017-04-11</th>\n",
       "      <td>7.545000</td>\n",
       "      <td>7.544233</td>\n",
       "    </tr>\n",
       "    <tr>\n",
       "      <th>...</th>\n",
       "      <td>...</td>\n",
       "      <td>...</td>\n",
       "    </tr>\n",
       "    <tr>\n",
       "      <th>2021-10-04</th>\n",
       "      <td>22.150000</td>\n",
       "      <td>23.780569</td>\n",
       "    </tr>\n",
       "    <tr>\n",
       "      <th>2021-10-05</th>\n",
       "      <td>22.750000</td>\n",
       "      <td>24.084070</td>\n",
       "    </tr>\n",
       "    <tr>\n",
       "      <th>2021-10-06</th>\n",
       "      <td>22.450001</td>\n",
       "      <td>23.908495</td>\n",
       "    </tr>\n",
       "    <tr>\n",
       "      <th>2021-10-07</th>\n",
       "      <td>22.770000</td>\n",
       "      <td>24.336561</td>\n",
       "    </tr>\n",
       "    <tr>\n",
       "      <th>2021-10-08</th>\n",
       "      <td>21.930000</td>\n",
       "      <td>24.096413</td>\n",
       "    </tr>\n",
       "  </tbody>\n",
       "</table>\n",
       "<p>1137 rows × 2 columns</p>\n",
       "</div>"
      ],
      "text/plain": [
       "                Close     y pred\n",
       "Date                            \n",
       "2017-04-05   7.680000   7.658790\n",
       "2017-04-06   7.680000   7.675268\n",
       "2017-04-07   7.635000   7.628642\n",
       "2017-04-10   7.585000   7.513174\n",
       "2017-04-11   7.545000   7.544233\n",
       "...               ...        ...\n",
       "2021-10-04  22.150000  23.780569\n",
       "2021-10-05  22.750000  24.084070\n",
       "2021-10-06  22.450001  23.908495\n",
       "2021-10-07  22.770000  24.336561\n",
       "2021-10-08  21.930000  24.096413\n",
       "\n",
       "[1137 rows x 2 columns]"
      ]
     },
     "execution_count": 9,
     "metadata": {},
     "output_type": "execute_result"
    }
   ],
   "source": [
    "df=pd.DataFrame(y_test)\n",
    "df[\"y pred\"]=y_pred\n",
    "df"
   ]
  },
  {
   "cell_type": "code",
   "execution_count": 10,
   "id": "027f8a36",
   "metadata": {
    "scrolled": true
   },
   "outputs": [
    {
     "data": {
      "text/html": [
       "<div>\n",
       "<style scoped>\n",
       "    .dataframe tbody tr th:only-of-type {\n",
       "        vertical-align: middle;\n",
       "    }\n",
       "\n",
       "    .dataframe tbody tr th {\n",
       "        vertical-align: top;\n",
       "    }\n",
       "\n",
       "    .dataframe thead th {\n",
       "        text-align: right;\n",
       "    }\n",
       "</style>\n",
       "<table border=\"1\" class=\"dataframe\">\n",
       "  <thead>\n",
       "    <tr style=\"text-align: right;\">\n",
       "      <th></th>\n",
       "      <th>Close</th>\n",
       "      <th>y pred</th>\n",
       "    </tr>\n",
       "    <tr>\n",
       "      <th>Date</th>\n",
       "      <th></th>\n",
       "      <th></th>\n",
       "    </tr>\n",
       "  </thead>\n",
       "  <tbody>\n",
       "    <tr>\n",
       "      <th>2017-04-05</th>\n",
       "      <td>7.680</td>\n",
       "      <td>7.658790</td>\n",
       "    </tr>\n",
       "    <tr>\n",
       "      <th>2017-04-06</th>\n",
       "      <td>7.680</td>\n",
       "      <td>7.675268</td>\n",
       "    </tr>\n",
       "    <tr>\n",
       "      <th>2017-04-07</th>\n",
       "      <td>7.635</td>\n",
       "      <td>7.628642</td>\n",
       "    </tr>\n",
       "    <tr>\n",
       "      <th>2017-04-10</th>\n",
       "      <td>7.585</td>\n",
       "      <td>7.513174</td>\n",
       "    </tr>\n",
       "    <tr>\n",
       "      <th>2017-04-11</th>\n",
       "      <td>7.545</td>\n",
       "      <td>7.544233</td>\n",
       "    </tr>\n",
       "  </tbody>\n",
       "</table>\n",
       "</div>"
      ],
      "text/plain": [
       "            Close    y pred\n",
       "Date                       \n",
       "2017-04-05  7.680  7.658790\n",
       "2017-04-06  7.680  7.675268\n",
       "2017-04-07  7.635  7.628642\n",
       "2017-04-10  7.585  7.513174\n",
       "2017-04-11  7.545  7.544233"
      ]
     },
     "execution_count": 10,
     "metadata": {},
     "output_type": "execute_result"
    }
   ],
   "source": [
    "df.head()"
   ]
  },
  {
   "cell_type": "code",
   "execution_count": 11,
   "id": "ce606818",
   "metadata": {},
   "outputs": [
    {
     "data": {
      "text/html": [
       "<div>\n",
       "<style scoped>\n",
       "    .dataframe tbody tr th:only-of-type {\n",
       "        vertical-align: middle;\n",
       "    }\n",
       "\n",
       "    .dataframe tbody tr th {\n",
       "        vertical-align: top;\n",
       "    }\n",
       "\n",
       "    .dataframe thead th {\n",
       "        text-align: right;\n",
       "    }\n",
       "</style>\n",
       "<table border=\"1\" class=\"dataframe\">\n",
       "  <thead>\n",
       "    <tr style=\"text-align: right;\">\n",
       "      <th></th>\n",
       "      <th>Close</th>\n",
       "      <th>y pred</th>\n",
       "    </tr>\n",
       "    <tr>\n",
       "      <th>Date</th>\n",
       "      <th></th>\n",
       "      <th></th>\n",
       "    </tr>\n",
       "  </thead>\n",
       "  <tbody>\n",
       "    <tr>\n",
       "      <th>2021-10-04</th>\n",
       "      <td>22.150000</td>\n",
       "      <td>23.780569</td>\n",
       "    </tr>\n",
       "    <tr>\n",
       "      <th>2021-10-05</th>\n",
       "      <td>22.750000</td>\n",
       "      <td>24.084070</td>\n",
       "    </tr>\n",
       "    <tr>\n",
       "      <th>2021-10-06</th>\n",
       "      <td>22.450001</td>\n",
       "      <td>23.908495</td>\n",
       "    </tr>\n",
       "    <tr>\n",
       "      <th>2021-10-07</th>\n",
       "      <td>22.770000</td>\n",
       "      <td>24.336561</td>\n",
       "    </tr>\n",
       "    <tr>\n",
       "      <th>2021-10-08</th>\n",
       "      <td>21.930000</td>\n",
       "      <td>24.096413</td>\n",
       "    </tr>\n",
       "  </tbody>\n",
       "</table>\n",
       "</div>"
      ],
      "text/plain": [
       "                Close     y pred\n",
       "Date                            \n",
       "2021-10-04  22.150000  23.780569\n",
       "2021-10-05  22.750000  24.084070\n",
       "2021-10-06  22.450001  23.908495\n",
       "2021-10-07  22.770000  24.336561\n",
       "2021-10-08  21.930000  24.096413"
      ]
     },
     "execution_count": 11,
     "metadata": {},
     "output_type": "execute_result"
    }
   ],
   "source": [
    "df.tail()"
   ]
  },
  {
   "cell_type": "code",
   "execution_count": 12,
   "id": "ebd1b53e",
   "metadata": {},
   "outputs": [
    {
     "data": {
      "image/png": "[encoded data removed]",
      "text/plain": [
       "<Figure size 432x288 with 1 Axes>"
      ]
     },
     "metadata": {
      "needs_background": "light"
     },
     "output_type": "display_data"
    },
    {
     "data": {
      "image/png": "[encoded data removed]",
      "text/plain": [
       "<Figure size 432x288 with 1 Axes>"
      ]
     },
     "metadata": {
      "needs_background": "light"
     },
     "output_type": "display_data"
    }
   ],
   "source": [
    "import matplotlib.pyplot as plt\n",
    "plt.plot(df['Close'],color='red', label='Predictions from the trained model')\n",
    "plt.legend(loc='upper left')\n",
    "plt.show()\n",
    "plt.plot(df['y pred'],color='blue', label='Read values for the stock')\n",
    "plt.legend(loc='upper left')\n",
    "plt.show()"
   ]
  },
  {
   "cell_type": "code",
   "execution_count": 13,
   "id": "b21ce16b",
   "metadata": {},
   "outputs": [
    {
     "data": {
      "image/png": "[encoded data removed]",
      "text/plain": [
       "<Figure size 432x288 with 1 Axes>"
      ]
     },
     "metadata": {
      "needs_background": "light"
     },
     "output_type": "display_data"
    }
   ],
   "source": [
    "import matplotlib.pyplot as plt\n",
    "plt.plot(df['Close'], label='Predictions from the trained model')\n",
    "plt.legend(loc='upper left')\n",
    "plt.plot(df['y pred'], label='Read values for the stock')\n",
    "plt.legend(loc='upper left')\n",
    "plt.show()"
   ]
  },
  {
   "cell_type": "code",
   "execution_count": 14,
   "id": "05bf1631",
   "metadata": {},
   "outputs": [
    {
     "name": "stdout",
     "output_type": "stream",
     "text": [
      "Train Score: 0.01 MSE (0.07 RMSE)\n",
      "Test Score: 0.29 MSE (0.54 RMSE)\n"
     ]
    }
   ],
   "source": [
    "trainScore = classifier.evaluate(X_train, y_train, verbose=0)\n",
    "print('Train Score: %.2f MSE (%.2f RMSE)' % (trainScore, math.sqrt(trainScore)))\n",
    "testScore = classifier.evaluate(X_test, y_test, verbose=0)\n",
    "print('Test Score: %.2f MSE (%.2f RMSE)' % (testScore, math.sqrt(testScore)))"
   ]
  },
  {
   "cell_type": "code",
   "execution_count": 15,
   "id": "4162f971",
   "metadata": {},
   "outputs": [
    {
     "data": {
      "image/png": "[encoded data removed]",
      "text/plain": [
       "<Figure size 432x288 with 1 Axes>"
      ]
     },
     "metadata": {
      "needs_background": "light"
     },
     "output_type": "display_data"
    }
   ],
   "source": [
    "import matplotlib.pyplot as plt\n",
    "plt.plot(df['Close'].tail(), label='Predictions from the trained model')\n",
    "plt.legend(loc='upper left')\n",
    "plt.plot(df['y pred'].tail(), label='Read values for the stock')\n",
    "plt.legend(loc='lower left')\n",
    "plt.show()"
   ]
  },
  {
   "cell_type": "code",
   "execution_count": 16,
   "id": "64b31ffd",
   "metadata": {},
   "outputs": [
    {
     "data": {
      "text/html": [
       "<div>\n",
       "<style scoped>\n",
       "    .dataframe tbody tr th:only-of-type {\n",
       "        vertical-align: middle;\n",
       "    }\n",
       "\n",
       "    .dataframe tbody tr th {\n",
       "        vertical-align: top;\n",
       "    }\n",
       "\n",
       "    .dataframe thead th {\n",
       "        text-align: right;\n",
       "    }\n",
       "</style>\n",
       "<table border=\"1\" class=\"dataframe\">\n",
       "  <thead>\n",
       "    <tr style=\"text-align: right;\">\n",
       "      <th></th>\n",
       "      <th>Close</th>\n",
       "      <th>y pred</th>\n",
       "    </tr>\n",
       "    <tr>\n",
       "      <th>Date</th>\n",
       "      <th></th>\n",
       "      <th></th>\n",
       "    </tr>\n",
       "  </thead>\n",
       "  <tbody>\n",
       "    <tr>\n",
       "      <th>2021-10-04</th>\n",
       "      <td>22.150000</td>\n",
       "      <td>23.780569</td>\n",
       "    </tr>\n",
       "    <tr>\n",
       "      <th>2021-10-05</th>\n",
       "      <td>22.750000</td>\n",
       "      <td>24.084070</td>\n",
       "    </tr>\n",
       "    <tr>\n",
       "      <th>2021-10-06</th>\n",
       "      <td>22.450001</td>\n",
       "      <td>23.908495</td>\n",
       "    </tr>\n",
       "    <tr>\n",
       "      <th>2021-10-07</th>\n",
       "      <td>22.770000</td>\n",
       "      <td>24.336561</td>\n",
       "    </tr>\n",
       "    <tr>\n",
       "      <th>2021-10-08</th>\n",
       "      <td>21.930000</td>\n",
       "      <td>24.096413</td>\n",
       "    </tr>\n",
       "  </tbody>\n",
       "</table>\n",
       "</div>"
      ],
      "text/plain": [
       "                Close     y pred\n",
       "Date                            \n",
       "2021-10-04  22.150000  23.780569\n",
       "2021-10-05  22.750000  24.084070\n",
       "2021-10-06  22.450001  23.908495\n",
       "2021-10-07  22.770000  24.336561\n",
       "2021-10-08  21.930000  24.096413"
      ]
     },
     "execution_count": 16,
     "metadata": {},
     "output_type": "execute_result"
    }
   ],
   "source": [
    "df.tail()"
   ]
  },
  {
   "cell_type": "code",
   "execution_count": 17,
   "id": "3f2258be",
   "metadata": {},
   "outputs": [
    {
     "data": {
      "text/html": [
       "<div>\n",
       "<style scoped>\n",
       "    .dataframe tbody tr th:only-of-type {\n",
       "        vertical-align: middle;\n",
       "    }\n",
       "\n",
       "    .dataframe tbody tr th {\n",
       "        vertical-align: top;\n",
       "    }\n",
       "\n",
       "    .dataframe thead th {\n",
       "        text-align: right;\n",
       "    }\n",
       "</style>\n",
       "<table border=\"1\" class=\"dataframe\">\n",
       "  <thead>\n",
       "    <tr style=\"text-align: right;\">\n",
       "      <th></th>\n",
       "      <th>Open</th>\n",
       "      <th>High</th>\n",
       "      <th>Low</th>\n",
       "      <th>Close</th>\n",
       "      <th>Adj Close</th>\n",
       "      <th>Volume</th>\n",
       "    </tr>\n",
       "    <tr>\n",
       "      <th>Date</th>\n",
       "      <th></th>\n",
       "      <th></th>\n",
       "      <th></th>\n",
       "      <th></th>\n",
       "      <th></th>\n",
       "      <th></th>\n",
       "    </tr>\n",
       "  </thead>\n",
       "  <tbody>\n",
       "    <tr>\n",
       "      <th>1999-03-11</th>\n",
       "      <td>0.583984</td>\n",
       "      <td>0.781250</td>\n",
       "      <td>0.583984</td>\n",
       "      <td>0.732422</td>\n",
       "      <td>0.512236</td>\n",
       "      <td>172512000</td>\n",
       "    </tr>\n",
       "    <tr>\n",
       "      <th>1999-03-12</th>\n",
       "      <td>0.734375</td>\n",
       "      <td>0.761719</td>\n",
       "      <td>0.671875</td>\n",
       "      <td>0.728516</td>\n",
       "      <td>0.509504</td>\n",
       "      <td>39897600</td>\n",
       "    </tr>\n",
       "    <tr>\n",
       "      <th>1999-03-15</th>\n",
       "      <td>0.730469</td>\n",
       "      <td>0.730469</td>\n",
       "      <td>0.658203</td>\n",
       "      <td>0.662109</td>\n",
       "      <td>0.463061</td>\n",
       "      <td>12672000</td>\n",
       "    </tr>\n",
       "    <tr>\n",
       "      <th>1999-03-16</th>\n",
       "      <td>0.667969</td>\n",
       "      <td>0.691406</td>\n",
       "      <td>0.656250</td>\n",
       "      <td>0.656250</td>\n",
       "      <td>0.458963</td>\n",
       "      <td>9984000</td>\n",
       "    </tr>\n",
       "    <tr>\n",
       "      <th>1999-03-17</th>\n",
       "      <td>0.656250</td>\n",
       "      <td>0.699219</td>\n",
       "      <td>0.652344</td>\n",
       "      <td>0.660156</td>\n",
       "      <td>0.461695</td>\n",
       "      <td>15449600</td>\n",
       "    </tr>\n",
       "    <tr>\n",
       "      <th>...</th>\n",
       "      <td>...</td>\n",
       "      <td>...</td>\n",
       "      <td>...</td>\n",
       "      <td>...</td>\n",
       "      <td>...</td>\n",
       "      <td>...</td>\n",
       "    </tr>\n",
       "    <tr>\n",
       "      <th>2021-10-04</th>\n",
       "      <td>22.290001</td>\n",
       "      <td>22.350000</td>\n",
       "      <td>22.030001</td>\n",
       "      <td>22.150000</td>\n",
       "      <td>22.150000</td>\n",
       "      <td>8654400</td>\n",
       "    </tr>\n",
       "    <tr>\n",
       "      <th>2021-10-05</th>\n",
       "      <td>22.290001</td>\n",
       "      <td>22.780001</td>\n",
       "      <td>22.290001</td>\n",
       "      <td>22.750000</td>\n",
       "      <td>22.750000</td>\n",
       "      <td>9498900</td>\n",
       "    </tr>\n",
       "    <tr>\n",
       "      <th>2021-10-06</th>\n",
       "      <td>22.320000</td>\n",
       "      <td>22.500000</td>\n",
       "      <td>22.150000</td>\n",
       "      <td>22.450001</td>\n",
       "      <td>22.450001</td>\n",
       "      <td>7134600</td>\n",
       "    </tr>\n",
       "    <tr>\n",
       "      <th>2021-10-07</th>\n",
       "      <td>22.650000</td>\n",
       "      <td>22.840000</td>\n",
       "      <td>22.559999</td>\n",
       "      <td>22.770000</td>\n",
       "      <td>22.770000</td>\n",
       "      <td>9589800</td>\n",
       "    </tr>\n",
       "    <tr>\n",
       "      <th>2021-10-08</th>\n",
       "      <td>22.910000</td>\n",
       "      <td>23.000000</td>\n",
       "      <td>21.730000</td>\n",
       "      <td>21.930000</td>\n",
       "      <td>21.930000</td>\n",
       "      <td>15739900</td>\n",
       "    </tr>\n",
       "  </tbody>\n",
       "</table>\n",
       "<p>5684 rows × 6 columns</p>\n",
       "</div>"
      ],
      "text/plain": [
       "                 Open       High        Low      Close  Adj Close     Volume\n",
       "Date                                                                        \n",
       "1999-03-11   0.583984   0.781250   0.583984   0.732422   0.512236  172512000\n",
       "1999-03-12   0.734375   0.761719   0.671875   0.728516   0.509504   39897600\n",
       "1999-03-15   0.730469   0.730469   0.658203   0.662109   0.463061   12672000\n",
       "1999-03-16   0.667969   0.691406   0.656250   0.656250   0.458963    9984000\n",
       "1999-03-17   0.656250   0.699219   0.652344   0.660156   0.461695   15449600\n",
       "...               ...        ...        ...        ...        ...        ...\n",
       "2021-10-04  22.290001  22.350000  22.030001  22.150000  22.150000    8654400\n",
       "2021-10-05  22.290001  22.780001  22.290001  22.750000  22.750000    9498900\n",
       "2021-10-06  22.320000  22.500000  22.150000  22.450001  22.450001    7134600\n",
       "2021-10-07  22.650000  22.840000  22.559999  22.770000  22.770000    9589800\n",
       "2021-10-08  22.910000  23.000000  21.730000  21.930000  21.930000   15739900\n",
       "\n",
       "[5684 rows x 6 columns]"
      ]
     },
     "execution_count": 17,
     "metadata": {},
     "output_type": "execute_result"
    }
   ],
   "source": [
    "dataset"
   ]
  },
  {
   "cell_type": "code",
   "execution_count": null,
   "id": "4912d330",
   "metadata": {},
   "outputs": [],
   "source": []
  }
 ],
 "metadata": {
  "kernelspec": {
   "display_name": "Python 3",
   "language": "python",
   "name": "python3"
  },
  "language_info": {
   "codemirror_mode": {
    "name": "ipython",
    "version": 3
   },
   "file_extension": ".py",
   "mimetype": "text/x-python",
   "name": "python",
   "nbconvert_exporter": "python",
   "pygments_lexer": "ipython3",
   "version": "3.8.8"
  }
 },
 "nbformat": 4,
 "nbformat_minor": 5
}
